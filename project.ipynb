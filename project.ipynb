{
 "cells": [
  {
   "cell_type": "code",
   "execution_count": 1,
   "id": "a4482ef1-b24d-46d4-9dfe-1f3f01402766",
   "metadata": {},
   "outputs": [
    {
     "name": "stdout",
     "output_type": "stream",
     "text": [
      "Requirement already satisfied: seaborn in c:\\users\\sourikta pal\\appdata\\local\\programs\\python\\python312\\lib\\site-packages (0.13.2)\n",
      "Requirement already satisfied: numpy!=1.24.0,>=1.20 in c:\\users\\sourikta pal\\appdata\\local\\programs\\python\\python312\\lib\\site-packages (from seaborn) (1.26.3)\n",
      "Requirement already satisfied: pandas>=1.2 in c:\\users\\sourikta pal\\appdata\\local\\programs\\python\\python312\\lib\\site-packages (from seaborn) (2.1.4)\n",
      "Requirement already satisfied: matplotlib!=3.6.1,>=3.4 in c:\\users\\sourikta pal\\appdata\\local\\programs\\python\\python312\\lib\\site-packages (from seaborn) (3.8.2)\n",
      "Requirement already satisfied: contourpy>=1.0.1 in c:\\users\\sourikta pal\\appdata\\local\\programs\\python\\python312\\lib\\site-packages (from matplotlib!=3.6.1,>=3.4->seaborn) (1.2.0)\n",
      "Requirement already satisfied: cycler>=0.10 in c:\\users\\sourikta pal\\appdata\\local\\programs\\python\\python312\\lib\\site-packages (from matplotlib!=3.6.1,>=3.4->seaborn) (0.12.1)\n",
      "Requirement already satisfied: fonttools>=4.22.0 in c:\\users\\sourikta pal\\appdata\\local\\programs\\python\\python312\\lib\\site-packages (from matplotlib!=3.6.1,>=3.4->seaborn) (4.47.2)\n",
      "Requirement already satisfied: kiwisolver>=1.3.1 in c:\\users\\sourikta pal\\appdata\\local\\programs\\python\\python312\\lib\\site-packages (from matplotlib!=3.6.1,>=3.4->seaborn) (1.4.5)\n",
      "Requirement already satisfied: packaging>=20.0 in c:\\users\\sourikta pal\\appdata\\local\\programs\\python\\python312\\lib\\site-packages (from matplotlib!=3.6.1,>=3.4->seaborn) (23.2)\n",
      "Requirement already satisfied: pillow>=8 in c:\\users\\sourikta pal\\appdata\\local\\programs\\python\\python312\\lib\\site-packages (from matplotlib!=3.6.1,>=3.4->seaborn) (10.2.0)\n",
      "Requirement already satisfied: pyparsing>=2.3.1 in c:\\users\\sourikta pal\\appdata\\local\\programs\\python\\python312\\lib\\site-packages (from matplotlib!=3.6.1,>=3.4->seaborn) (3.1.1)\n",
      "Requirement already satisfied: python-dateutil>=2.7 in c:\\users\\sourikta pal\\appdata\\local\\programs\\python\\python312\\lib\\site-packages (from matplotlib!=3.6.1,>=3.4->seaborn) (2.8.2)\n",
      "Requirement already satisfied: pytz>=2020.1 in c:\\users\\sourikta pal\\appdata\\local\\programs\\python\\python312\\lib\\site-packages (from pandas>=1.2->seaborn) (2023.3.post1)\n",
      "Requirement already satisfied: tzdata>=2022.1 in c:\\users\\sourikta pal\\appdata\\local\\programs\\python\\python312\\lib\\site-packages (from pandas>=1.2->seaborn) (2023.4)\n",
      "Requirement already satisfied: six>=1.5 in c:\\users\\sourikta pal\\appdata\\local\\programs\\python\\python312\\lib\\site-packages (from python-dateutil>=2.7->matplotlib!=3.6.1,>=3.4->seaborn) (1.16.0)\n",
      "Note: you may need to restart the kernel to use updated packages.\n"
     ]
    },
    {
     "name": "stderr",
     "output_type": "stream",
     "text": [
      "\n",
      "[notice] A new release of pip is available: 23.2.1 -> 24.0\n",
      "[notice] To update, run: python.exe -m pip install --upgrade pip\n"
     ]
    }
   ],
   "source": [
    "pip install seaborn"
   ]
  },
  {
   "cell_type": "code",
   "execution_count": 2,
   "id": "f1ef7316-ed2d-4283-9904-84922fc34446",
   "metadata": {},
   "outputs": [],
   "source": [
    "import pandas as pd\n",
    "import seaborn as sns\n",
    "import numpy as np"
   ]
  },
  {
   "cell_type": "code",
   "execution_count": 3,
   "id": "f616a74f-a4c4-4ac6-9270-05fe8456a821",
   "metadata": {},
   "outputs": [],
   "source": [
    "data=pd.read_csv(\"House_Rent_Dataset.csv\")"
   ]
  },
  {
   "cell_type": "code",
   "execution_count": 4,
   "id": "3f857c0b-42e7-49a6-9fdf-5165ee947699",
   "metadata": {},
   "outputs": [
    {
     "data": {
      "text/html": [
       "<div>\n",
       "<style scoped>\n",
       "    .dataframe tbody tr th:only-of-type {\n",
       "        vertical-align: middle;\n",
       "    }\n",
       "\n",
       "    .dataframe tbody tr th {\n",
       "        vertical-align: top;\n",
       "    }\n",
       "\n",
       "    .dataframe thead th {\n",
       "        text-align: right;\n",
       "    }\n",
       "</style>\n",
       "<table border=\"1\" class=\"dataframe\">\n",
       "  <thead>\n",
       "    <tr style=\"text-align: right;\">\n",
       "      <th></th>\n",
       "      <th>Posted On</th>\n",
       "      <th>BHK</th>\n",
       "      <th>Rent</th>\n",
       "      <th>Size</th>\n",
       "      <th>Floor</th>\n",
       "      <th>Area Type</th>\n",
       "      <th>Area Locality</th>\n",
       "      <th>City</th>\n",
       "      <th>Furnishing Status</th>\n",
       "      <th>Tenant Preferred</th>\n",
       "      <th>Bathroom</th>\n",
       "      <th>Point of Contact</th>\n",
       "    </tr>\n",
       "  </thead>\n",
       "  <tbody>\n",
       "    <tr>\n",
       "      <th>0</th>\n",
       "      <td>2022-05-18</td>\n",
       "      <td>2</td>\n",
       "      <td>10000</td>\n",
       "      <td>1100</td>\n",
       "      <td>Ground out of 2</td>\n",
       "      <td>Super Area</td>\n",
       "      <td>Bandel</td>\n",
       "      <td>Kolkata</td>\n",
       "      <td>Unfurnished</td>\n",
       "      <td>Bachelors/Family</td>\n",
       "      <td>2</td>\n",
       "      <td>Contact Owner</td>\n",
       "    </tr>\n",
       "    <tr>\n",
       "      <th>1</th>\n",
       "      <td>2022-05-13</td>\n",
       "      <td>2</td>\n",
       "      <td>20000</td>\n",
       "      <td>800</td>\n",
       "      <td>1 out of 3</td>\n",
       "      <td>Super Area</td>\n",
       "      <td>Phool Bagan, Kankurgachi</td>\n",
       "      <td>Kolkata</td>\n",
       "      <td>Semi-Furnished</td>\n",
       "      <td>Bachelors/Family</td>\n",
       "      <td>1</td>\n",
       "      <td>Contact Owner</td>\n",
       "    </tr>\n",
       "    <tr>\n",
       "      <th>2</th>\n",
       "      <td>2022-05-16</td>\n",
       "      <td>2</td>\n",
       "      <td>17000</td>\n",
       "      <td>1000</td>\n",
       "      <td>1 out of 3</td>\n",
       "      <td>Super Area</td>\n",
       "      <td>Salt Lake City Sector 2</td>\n",
       "      <td>Kolkata</td>\n",
       "      <td>Semi-Furnished</td>\n",
       "      <td>Bachelors/Family</td>\n",
       "      <td>1</td>\n",
       "      <td>Contact Owner</td>\n",
       "    </tr>\n",
       "    <tr>\n",
       "      <th>3</th>\n",
       "      <td>2022-07-04</td>\n",
       "      <td>2</td>\n",
       "      <td>10000</td>\n",
       "      <td>800</td>\n",
       "      <td>1 out of 2</td>\n",
       "      <td>Super Area</td>\n",
       "      <td>Dumdum Park</td>\n",
       "      <td>Kolkata</td>\n",
       "      <td>Unfurnished</td>\n",
       "      <td>Bachelors/Family</td>\n",
       "      <td>1</td>\n",
       "      <td>Contact Owner</td>\n",
       "    </tr>\n",
       "    <tr>\n",
       "      <th>4</th>\n",
       "      <td>2022-05-09</td>\n",
       "      <td>2</td>\n",
       "      <td>7500</td>\n",
       "      <td>850</td>\n",
       "      <td>1 out of 2</td>\n",
       "      <td>Carpet Area</td>\n",
       "      <td>South Dum Dum</td>\n",
       "      <td>Kolkata</td>\n",
       "      <td>Unfurnished</td>\n",
       "      <td>Bachelors</td>\n",
       "      <td>1</td>\n",
       "      <td>Contact Owner</td>\n",
       "    </tr>\n",
       "  </tbody>\n",
       "</table>\n",
       "</div>"
      ],
      "text/plain": [
       "    Posted On  BHK   Rent  Size            Floor    Area Type  \\\n",
       "0  2022-05-18    2  10000  1100  Ground out of 2   Super Area   \n",
       "1  2022-05-13    2  20000   800       1 out of 3   Super Area   \n",
       "2  2022-05-16    2  17000  1000       1 out of 3   Super Area   \n",
       "3  2022-07-04    2  10000   800       1 out of 2   Super Area   \n",
       "4  2022-05-09    2   7500   850       1 out of 2  Carpet Area   \n",
       "\n",
       "              Area Locality     City Furnishing Status  Tenant Preferred  \\\n",
       "0                    Bandel  Kolkata       Unfurnished  Bachelors/Family   \n",
       "1  Phool Bagan, Kankurgachi  Kolkata    Semi-Furnished  Bachelors/Family   \n",
       "2   Salt Lake City Sector 2  Kolkata    Semi-Furnished  Bachelors/Family   \n",
       "3               Dumdum Park  Kolkata       Unfurnished  Bachelors/Family   \n",
       "4             South Dum Dum  Kolkata       Unfurnished         Bachelors   \n",
       "\n",
       "   Bathroom Point of Contact  \n",
       "0         2    Contact Owner  \n",
       "1         1    Contact Owner  \n",
       "2         1    Contact Owner  \n",
       "3         1    Contact Owner  \n",
       "4         1    Contact Owner  "
      ]
     },
     "execution_count": 4,
     "metadata": {},
     "output_type": "execute_result"
    }
   ],
   "source": [
    "data.head()"
   ]
  },
  {
   "cell_type": "code",
   "execution_count": 5,
   "id": "c449c827-835f-4064-bffb-afbbe7cec360",
   "metadata": {},
   "outputs": [
    {
     "data": {
      "text/html": [
       "<div>\n",
       "<style scoped>\n",
       "    .dataframe tbody tr th:only-of-type {\n",
       "        vertical-align: middle;\n",
       "    }\n",
       "\n",
       "    .dataframe tbody tr th {\n",
       "        vertical-align: top;\n",
       "    }\n",
       "\n",
       "    .dataframe thead th {\n",
       "        text-align: right;\n",
       "    }\n",
       "</style>\n",
       "<table border=\"1\" class=\"dataframe\">\n",
       "  <thead>\n",
       "    <tr style=\"text-align: right;\">\n",
       "      <th></th>\n",
       "      <th>Posted On</th>\n",
       "      <th>BHK</th>\n",
       "      <th>Rent</th>\n",
       "      <th>Size</th>\n",
       "      <th>Floor</th>\n",
       "      <th>Area Type</th>\n",
       "      <th>Area Locality</th>\n",
       "      <th>City</th>\n",
       "      <th>Furnishing Status</th>\n",
       "      <th>Tenant Preferred</th>\n",
       "      <th>Bathroom</th>\n",
       "      <th>Point of Contact</th>\n",
       "    </tr>\n",
       "  </thead>\n",
       "  <tbody>\n",
       "    <tr>\n",
       "      <th>4741</th>\n",
       "      <td>2022-05-18</td>\n",
       "      <td>2</td>\n",
       "      <td>15000</td>\n",
       "      <td>1000</td>\n",
       "      <td>3 out of 5</td>\n",
       "      <td>Carpet Area</td>\n",
       "      <td>Bandam Kommu</td>\n",
       "      <td>Hyderabad</td>\n",
       "      <td>Semi-Furnished</td>\n",
       "      <td>Bachelors/Family</td>\n",
       "      <td>2</td>\n",
       "      <td>Contact Owner</td>\n",
       "    </tr>\n",
       "    <tr>\n",
       "      <th>4742</th>\n",
       "      <td>2022-05-15</td>\n",
       "      <td>3</td>\n",
       "      <td>29000</td>\n",
       "      <td>2000</td>\n",
       "      <td>1 out of 4</td>\n",
       "      <td>Super Area</td>\n",
       "      <td>Manikonda, Hyderabad</td>\n",
       "      <td>Hyderabad</td>\n",
       "      <td>Semi-Furnished</td>\n",
       "      <td>Bachelors/Family</td>\n",
       "      <td>3</td>\n",
       "      <td>Contact Owner</td>\n",
       "    </tr>\n",
       "    <tr>\n",
       "      <th>4743</th>\n",
       "      <td>2022-07-10</td>\n",
       "      <td>3</td>\n",
       "      <td>35000</td>\n",
       "      <td>1750</td>\n",
       "      <td>3 out of 5</td>\n",
       "      <td>Carpet Area</td>\n",
       "      <td>Himayath Nagar, NH 7</td>\n",
       "      <td>Hyderabad</td>\n",
       "      <td>Semi-Furnished</td>\n",
       "      <td>Bachelors/Family</td>\n",
       "      <td>3</td>\n",
       "      <td>Contact Agent</td>\n",
       "    </tr>\n",
       "    <tr>\n",
       "      <th>4744</th>\n",
       "      <td>2022-07-06</td>\n",
       "      <td>3</td>\n",
       "      <td>45000</td>\n",
       "      <td>1500</td>\n",
       "      <td>23 out of 34</td>\n",
       "      <td>Carpet Area</td>\n",
       "      <td>Gachibowli</td>\n",
       "      <td>Hyderabad</td>\n",
       "      <td>Semi-Furnished</td>\n",
       "      <td>Family</td>\n",
       "      <td>2</td>\n",
       "      <td>Contact Agent</td>\n",
       "    </tr>\n",
       "    <tr>\n",
       "      <th>4745</th>\n",
       "      <td>2022-05-04</td>\n",
       "      <td>2</td>\n",
       "      <td>15000</td>\n",
       "      <td>1000</td>\n",
       "      <td>4 out of 5</td>\n",
       "      <td>Carpet Area</td>\n",
       "      <td>Suchitra Circle</td>\n",
       "      <td>Hyderabad</td>\n",
       "      <td>Unfurnished</td>\n",
       "      <td>Bachelors</td>\n",
       "      <td>2</td>\n",
       "      <td>Contact Owner</td>\n",
       "    </tr>\n",
       "  </tbody>\n",
       "</table>\n",
       "</div>"
      ],
      "text/plain": [
       "       Posted On  BHK   Rent  Size         Floor    Area Type  \\\n",
       "4741  2022-05-18    2  15000  1000    3 out of 5  Carpet Area   \n",
       "4742  2022-05-15    3  29000  2000    1 out of 4   Super Area   \n",
       "4743  2022-07-10    3  35000  1750    3 out of 5  Carpet Area   \n",
       "4744  2022-07-06    3  45000  1500  23 out of 34  Carpet Area   \n",
       "4745  2022-05-04    2  15000  1000    4 out of 5  Carpet Area   \n",
       "\n",
       "             Area Locality       City Furnishing Status  Tenant Preferred  \\\n",
       "4741          Bandam Kommu  Hyderabad    Semi-Furnished  Bachelors/Family   \n",
       "4742  Manikonda, Hyderabad  Hyderabad    Semi-Furnished  Bachelors/Family   \n",
       "4743  Himayath Nagar, NH 7  Hyderabad    Semi-Furnished  Bachelors/Family   \n",
       "4744            Gachibowli  Hyderabad    Semi-Furnished            Family   \n",
       "4745       Suchitra Circle  Hyderabad       Unfurnished         Bachelors   \n",
       "\n",
       "      Bathroom Point of Contact  \n",
       "4741         2    Contact Owner  \n",
       "4742         3    Contact Owner  \n",
       "4743         3    Contact Agent  \n",
       "4744         2    Contact Agent  \n",
       "4745         2    Contact Owner  "
      ]
     },
     "execution_count": 5,
     "metadata": {},
     "output_type": "execute_result"
    }
   ],
   "source": [
    "data.tail()"
   ]
  },
  {
   "cell_type": "code",
   "execution_count": 6,
   "id": "ef516006-5b39-456a-a831-e8e49f314926",
   "metadata": {},
   "outputs": [
    {
     "data": {
      "text/plain": [
       "Index(['Posted On', 'BHK', 'Rent', 'Size', 'Floor', 'Area Type',\n",
       "       'Area Locality', 'City', 'Furnishing Status', 'Tenant Preferred',\n",
       "       'Bathroom', 'Point of Contact'],\n",
       "      dtype='object')"
      ]
     },
     "execution_count": 6,
     "metadata": {},
     "output_type": "execute_result"
    }
   ],
   "source": [
    "data.columns"
   ]
  },
  {
   "cell_type": "code",
   "execution_count": 7,
   "id": "32911746-9be4-408c-8050-5ca4ba138471",
   "metadata": {},
   "outputs": [
    {
     "data": {
      "text/plain": [
       "(4746, 12)"
      ]
     },
     "execution_count": 7,
     "metadata": {},
     "output_type": "execute_result"
    }
   ],
   "source": [
    "data.shape"
   ]
  },
  {
   "cell_type": "code",
   "execution_count": 8,
   "id": "7fc07570-3f77-4360-8ba7-9c36ce391ec8",
   "metadata": {},
   "outputs": [
    {
     "data": {
      "text/plain": [
       "<bound method NDFrame.describe of        Posted On  BHK   Rent  Size            Floor    Area Type  \\\n",
       "0     2022-05-18    2  10000  1100  Ground out of 2   Super Area   \n",
       "1     2022-05-13    2  20000   800       1 out of 3   Super Area   \n",
       "2     2022-05-16    2  17000  1000       1 out of 3   Super Area   \n",
       "3     2022-07-04    2  10000   800       1 out of 2   Super Area   \n",
       "4     2022-05-09    2   7500   850       1 out of 2  Carpet Area   \n",
       "...          ...  ...    ...   ...              ...          ...   \n",
       "4741  2022-05-18    2  15000  1000       3 out of 5  Carpet Area   \n",
       "4742  2022-05-15    3  29000  2000       1 out of 4   Super Area   \n",
       "4743  2022-07-10    3  35000  1750       3 out of 5  Carpet Area   \n",
       "4744  2022-07-06    3  45000  1500     23 out of 34  Carpet Area   \n",
       "4745  2022-05-04    2  15000  1000       4 out of 5  Carpet Area   \n",
       "\n",
       "                 Area Locality       City Furnishing Status  Tenant Preferred  \\\n",
       "0                       Bandel    Kolkata       Unfurnished  Bachelors/Family   \n",
       "1     Phool Bagan, Kankurgachi    Kolkata    Semi-Furnished  Bachelors/Family   \n",
       "2      Salt Lake City Sector 2    Kolkata    Semi-Furnished  Bachelors/Family   \n",
       "3                  Dumdum Park    Kolkata       Unfurnished  Bachelors/Family   \n",
       "4                South Dum Dum    Kolkata       Unfurnished         Bachelors   \n",
       "...                        ...        ...               ...               ...   \n",
       "4741              Bandam Kommu  Hyderabad    Semi-Furnished  Bachelors/Family   \n",
       "4742      Manikonda, Hyderabad  Hyderabad    Semi-Furnished  Bachelors/Family   \n",
       "4743      Himayath Nagar, NH 7  Hyderabad    Semi-Furnished  Bachelors/Family   \n",
       "4744                Gachibowli  Hyderabad    Semi-Furnished            Family   \n",
       "4745           Suchitra Circle  Hyderabad       Unfurnished         Bachelors   \n",
       "\n",
       "      Bathroom Point of Contact  \n",
       "0            2    Contact Owner  \n",
       "1            1    Contact Owner  \n",
       "2            1    Contact Owner  \n",
       "3            1    Contact Owner  \n",
       "4            1    Contact Owner  \n",
       "...        ...              ...  \n",
       "4741         2    Contact Owner  \n",
       "4742         3    Contact Owner  \n",
       "4743         3    Contact Agent  \n",
       "4744         2    Contact Agent  \n",
       "4745         2    Contact Owner  \n",
       "\n",
       "[4746 rows x 12 columns]>"
      ]
     },
     "execution_count": 8,
     "metadata": {},
     "output_type": "execute_result"
    }
   ],
   "source": [
    "data.describe"
   ]
  },
  {
   "cell_type": "code",
   "execution_count": 9,
   "id": "41f1ac31-43e8-4ce9-80a6-890c55fcf034",
   "metadata": {},
   "outputs": [
    {
     "data": {
      "text/plain": [
       "Posted On            0\n",
       "BHK                  0\n",
       "Rent                 0\n",
       "Size                 0\n",
       "Floor                0\n",
       "Area Type            0\n",
       "Area Locality        0\n",
       "City                 0\n",
       "Furnishing Status    0\n",
       "Tenant Preferred     0\n",
       "Bathroom             0\n",
       "Point of Contact     0\n",
       "dtype: int64"
      ]
     },
     "execution_count": 9,
     "metadata": {},
     "output_type": "execute_result"
    }
   ],
   "source": [
    "data.isnull().sum()"
   ]
  },
  {
   "cell_type": "code",
   "execution_count": 10,
   "id": "aa89aaac-e29a-4322-af9e-7b3d7c1df14f",
   "metadata": {},
   "outputs": [
    {
     "data": {
      "text/plain": [
       "<seaborn.axisgrid.FacetGrid at 0x2e2d9c137a0>"
      ]
     },
     "execution_count": 10,
     "metadata": {},
     "output_type": "execute_result"
    },
    {
     "data": {
      "image/png": "[encoded data removed]",
      "text/plain": [
       "<Figure size 500x500 with 1 Axes>"
      ]
     },
     "metadata": {},
     "output_type": "display_data"
    }
   ],
   "source": [
    "sns.relplot(x='Rent',y='Size',data=data)"
   ]
  },
  {
   "cell_type": "code",
   "execution_count": 11,
   "id": "a9f41135-6e19-4c0f-9b2c-4d27ed532744",
   "metadata": {},
   "outputs": [
    {
     "data": {
      "text/plain": [
       "<seaborn.axisgrid.FacetGrid at 0x2e2d9afe630>"
      ]
     },
     "execution_count": 11,
     "metadata": {},
     "output_type": "execute_result"
    },
    {
     "data": {
      "image/png": "[encoded data removed]",
      "text/plain": [
       "<Figure size 500x500 with 1 Axes>"
      ]
     },
     "metadata": {},
     "output_type": "display_data"
    }
   ],
   "source": [
    "sns.relplot(x='Rent',y='BHK',data=data)"
   ]
  },
  {
   "cell_type": "code",
   "execution_count": 12,
   "id": "6fbad5a5-e78a-4ba4-9b52-ce04ae7b3592",
   "metadata": {},
   "outputs": [
    {
     "data": {
      "text/plain": [
       "<seaborn.axisgrid.FacetGrid at 0x2e2d9b9ae70>"
      ]
     },
     "execution_count": 12,
     "metadata": {},
     "output_type": "execute_result"
    },
    {
     "data": {
      "image/png": "[encoded data removed]",
      "text/plain": [
       "<Figure size 500x500 with 1 Axes>"
      ]
     },
     "metadata": {},
     "output_type": "display_data"
    }
   ],
   "source": [
    "sns.relplot(x='Rent',y='Bathroom',data=data)"
   ]
  },
  {
   "cell_type": "code",
   "execution_count": 13,
   "id": "a4e853d1-367f-421e-a8e1-f022957c53ba",
   "metadata": {},
   "outputs": [
    {
     "name": "stdout",
     "output_type": "stream",
     "text": [
      "Requirement already satisfied: scikit-learn in c:\\users\\sourikta pal\\appdata\\local\\programs\\python\\python312\\lib\\site-packages (1.3.2)\n",
      "Requirement already satisfied: numpy<2.0,>=1.17.3 in c:\\users\\sourikta pal\\appdata\\local\\programs\\python\\python312\\lib\\site-packages (from scikit-learn) (1.26.3)\n",
      "Requirement already satisfied: scipy>=1.5.0 in c:\\users\\sourikta pal\\appdata\\local\\programs\\python\\python312\\lib\\site-packages (from scikit-learn) (1.11.4)\n",
      "Requirement already satisfied: joblib>=1.1.1 in c:\\users\\sourikta pal\\appdata\\local\\programs\\python\\python312\\lib\\site-packages (from scikit-learn) (1.3.2)\n",
      "Requirement already satisfied: threadpoolctl>=2.0.0 in c:\\users\\sourikta pal\\appdata\\local\\programs\\python\\python312\\lib\\site-packages (from scikit-learn) (3.2.0)\n",
      "Note: you may need to restart the kernel to use updated packages.\n"
     ]
    },
    {
     "name": "stderr",
     "output_type": "stream",
     "text": [
      "\n",
      "[notice] A new release of pip is available: 23.2.1 -> 24.0\n",
      "[notice] To update, run: python.exe -m pip install --upgrade pip\n"
     ]
    }
   ],
   "source": [
    "pip install scikit-learn"
   ]
  },
  {
   "cell_type": "code",
   "execution_count": 60,
   "id": "0d9db650-5619-475f-8635-14a8ac70d2f1",
   "metadata": {},
   "outputs": [],
   "source": [
    "from sklearn import linear_model\n"
   ]
  },
  {
   "cell_type": "code",
   "execution_count": 16,
   "id": "fcfccf09-e0e3-44a1-92ec-5dbc72ba5179",
   "metadata": {},
   "outputs": [
    {
     "data": {
      "text/html": [
       "<div>\n",
       "<style scoped>\n",
       "    .dataframe tbody tr th:only-of-type {\n",
       "        vertical-align: middle;\n",
       "    }\n",
       "\n",
       "    .dataframe tbody tr th {\n",
       "        vertical-align: top;\n",
       "    }\n",
       "\n",
       "    .dataframe thead th {\n",
       "        text-align: right;\n",
       "    }\n",
       "</style>\n",
       "<table border=\"1\" class=\"dataframe\">\n",
       "  <thead>\n",
       "    <tr style=\"text-align: right;\">\n",
       "      <th></th>\n",
       "      <th>Posted On</th>\n",
       "      <th>BHK</th>\n",
       "      <th>Rent</th>\n",
       "      <th>Size</th>\n",
       "      <th>Floor</th>\n",
       "      <th>Area Type</th>\n",
       "      <th>Area Locality</th>\n",
       "      <th>City</th>\n",
       "      <th>Furnishing Status</th>\n",
       "      <th>Tenant Preferred</th>\n",
       "      <th>Bathroom</th>\n",
       "      <th>Point of Contact</th>\n",
       "    </tr>\n",
       "  </thead>\n",
       "  <tbody>\n",
       "    <tr>\n",
       "      <th>0</th>\n",
       "      <td>2022-05-18</td>\n",
       "      <td>2</td>\n",
       "      <td>10000</td>\n",
       "      <td>1100</td>\n",
       "      <td>Ground out of 2</td>\n",
       "      <td>Super Area</td>\n",
       "      <td>Bandel</td>\n",
       "      <td>Kolkata</td>\n",
       "      <td>Unfurnished</td>\n",
       "      <td>Bachelors/Family</td>\n",
       "      <td>2</td>\n",
       "      <td>Contact Owner</td>\n",
       "    </tr>\n",
       "    <tr>\n",
       "      <th>1</th>\n",
       "      <td>2022-05-13</td>\n",
       "      <td>2</td>\n",
       "      <td>20000</td>\n",
       "      <td>800</td>\n",
       "      <td>1 out of 3</td>\n",
       "      <td>Super Area</td>\n",
       "      <td>Phool Bagan, Kankurgachi</td>\n",
       "      <td>Kolkata</td>\n",
       "      <td>Semi-Furnished</td>\n",
       "      <td>Bachelors/Family</td>\n",
       "      <td>1</td>\n",
       "      <td>Contact Owner</td>\n",
       "    </tr>\n",
       "    <tr>\n",
       "      <th>2</th>\n",
       "      <td>2022-05-16</td>\n",
       "      <td>2</td>\n",
       "      <td>17000</td>\n",
       "      <td>1000</td>\n",
       "      <td>1 out of 3</td>\n",
       "      <td>Super Area</td>\n",
       "      <td>Salt Lake City Sector 2</td>\n",
       "      <td>Kolkata</td>\n",
       "      <td>Semi-Furnished</td>\n",
       "      <td>Bachelors/Family</td>\n",
       "      <td>1</td>\n",
       "      <td>Contact Owner</td>\n",
       "    </tr>\n",
       "    <tr>\n",
       "      <th>3</th>\n",
       "      <td>2022-07-04</td>\n",
       "      <td>2</td>\n",
       "      <td>10000</td>\n",
       "      <td>800</td>\n",
       "      <td>1 out of 2</td>\n",
       "      <td>Super Area</td>\n",
       "      <td>Dumdum Park</td>\n",
       "      <td>Kolkata</td>\n",
       "      <td>Unfurnished</td>\n",
       "      <td>Bachelors/Family</td>\n",
       "      <td>1</td>\n",
       "      <td>Contact Owner</td>\n",
       "    </tr>\n",
       "    <tr>\n",
       "      <th>4</th>\n",
       "      <td>2022-05-09</td>\n",
       "      <td>2</td>\n",
       "      <td>7500</td>\n",
       "      <td>850</td>\n",
       "      <td>1 out of 2</td>\n",
       "      <td>Carpet Area</td>\n",
       "      <td>South Dum Dum</td>\n",
       "      <td>Kolkata</td>\n",
       "      <td>Unfurnished</td>\n",
       "      <td>Bachelors</td>\n",
       "      <td>1</td>\n",
       "      <td>Contact Owner</td>\n",
       "    </tr>\n",
       "  </tbody>\n",
       "</table>\n",
       "</div>"
      ],
      "text/plain": [
       "    Posted On  BHK   Rent  Size            Floor    Area Type  \\\n",
       "0  2022-05-18    2  10000  1100  Ground out of 2   Super Area   \n",
       "1  2022-05-13    2  20000   800       1 out of 3   Super Area   \n",
       "2  2022-05-16    2  17000  1000       1 out of 3   Super Area   \n",
       "3  2022-07-04    2  10000   800       1 out of 2   Super Area   \n",
       "4  2022-05-09    2   7500   850       1 out of 2  Carpet Area   \n",
       "\n",
       "              Area Locality     City Furnishing Status  Tenant Preferred  \\\n",
       "0                    Bandel  Kolkata       Unfurnished  Bachelors/Family   \n",
       "1  Phool Bagan, Kankurgachi  Kolkata    Semi-Furnished  Bachelors/Family   \n",
       "2   Salt Lake City Sector 2  Kolkata    Semi-Furnished  Bachelors/Family   \n",
       "3               Dumdum Park  Kolkata       Unfurnished  Bachelors/Family   \n",
       "4             South Dum Dum  Kolkata       Unfurnished         Bachelors   \n",
       "\n",
       "   Bathroom Point of Contact  \n",
       "0         2    Contact Owner  \n",
       "1         1    Contact Owner  \n",
       "2         1    Contact Owner  \n",
       "3         1    Contact Owner  \n",
       "4         1    Contact Owner  "
      ]
     },
     "execution_count": 16,
     "metadata": {},
     "output_type": "execute_result"
    }
   ],
   "source": [
    "data.head()"
   ]
  },
  {
   "cell_type": "code",
   "execution_count": 51,
   "id": "b3767b46-c843-4a64-8b51-49b675029f23",
   "metadata": {},
   "outputs": [],
   "source": [
    "x=data[['BHK','Size']]\n",
    "y=data['Rent']"
   ]
  },
  {
   "cell_type": "code",
   "execution_count": 53,
   "id": "442a9644-10d1-4166-a47d-db20389f66cd",
   "metadata": {},
   "outputs": [
    {
     "data": {
      "text/html": [
       "<div>\n",
       "<style scoped>\n",
       "    .dataframe tbody tr th:only-of-type {\n",
       "        vertical-align: middle;\n",
       "    }\n",
       "\n",
       "    .dataframe tbody tr th {\n",
       "        vertical-align: top;\n",
       "    }\n",
       "\n",
       "    .dataframe thead th {\n",
       "        text-align: right;\n",
       "    }\n",
       "</style>\n",
       "<table border=\"1\" class=\"dataframe\">\n",
       "  <thead>\n",
       "    <tr style=\"text-align: right;\">\n",
       "      <th></th>\n",
       "      <th>BHK</th>\n",
       "      <th>Size</th>\n",
       "    </tr>\n",
       "  </thead>\n",
       "  <tbody>\n",
       "    <tr>\n",
       "      <th>0</th>\n",
       "      <td>2</td>\n",
       "      <td>1100</td>\n",
       "    </tr>\n",
       "    <tr>\n",
       "      <th>1</th>\n",
       "      <td>2</td>\n",
       "      <td>800</td>\n",
       "    </tr>\n",
       "    <tr>\n",
       "      <th>2</th>\n",
       "      <td>2</td>\n",
       "      <td>1000</td>\n",
       "    </tr>\n",
       "    <tr>\n",
       "      <th>3</th>\n",
       "      <td>2</td>\n",
       "      <td>800</td>\n",
       "    </tr>\n",
       "    <tr>\n",
       "      <th>4</th>\n",
       "      <td>2</td>\n",
       "      <td>850</td>\n",
       "    </tr>\n",
       "    <tr>\n",
       "      <th>...</th>\n",
       "      <td>...</td>\n",
       "      <td>...</td>\n",
       "    </tr>\n",
       "    <tr>\n",
       "      <th>4741</th>\n",
       "      <td>2</td>\n",
       "      <td>1000</td>\n",
       "    </tr>\n",
       "    <tr>\n",
       "      <th>4742</th>\n",
       "      <td>3</td>\n",
       "      <td>2000</td>\n",
       "    </tr>\n",
       "    <tr>\n",
       "      <th>4743</th>\n",
       "      <td>3</td>\n",
       "      <td>1750</td>\n",
       "    </tr>\n",
       "    <tr>\n",
       "      <th>4744</th>\n",
       "      <td>3</td>\n",
       "      <td>1500</td>\n",
       "    </tr>\n",
       "    <tr>\n",
       "      <th>4745</th>\n",
       "      <td>2</td>\n",
       "      <td>1000</td>\n",
       "    </tr>\n",
       "  </tbody>\n",
       "</table>\n",
       "<p>4746 rows × 2 columns</p>\n",
       "</div>"
      ],
      "text/plain": [
       "      BHK  Size\n",
       "0       2  1100\n",
       "1       2   800\n",
       "2       2  1000\n",
       "3       2   800\n",
       "4       2   850\n",
       "...   ...   ...\n",
       "4741    2  1000\n",
       "4742    3  2000\n",
       "4743    3  1750\n",
       "4744    3  1500\n",
       "4745    2  1000\n",
       "\n",
       "[4746 rows x 2 columns]"
      ]
     },
     "execution_count": 53,
     "metadata": {},
     "output_type": "execute_result"
    }
   ],
   "source": [
    "x"
   ]
  },
  {
   "cell_type": "code",
   "execution_count": 72,
   "id": "f9f430d5-2733-4130-8919-fd6488f14572",
   "metadata": {},
   "outputs": [],
   "source": [
    "r = linear_model.LinearRegression()\n"
   ]
  },
  {
   "cell_type": "code",
   "execution_count": 73,
   "id": "dc6eeec3-c998-4d7d-b34a-7c488f837462",
   "metadata": {},
   "outputs": [
    {
     "data": {
      "text/html": [
       "<style>#sk-container-id-5 {color: black;}#sk-container-id-5 pre{padding: 0;}#sk-container-id-5 div.sk-toggleable {background-color: white;}#sk-container-id-5 label.sk-toggleable__label {cursor: pointer;display: block;width: 100%;margin-bottom: 0;padding: 0.3em;box-sizing: border-box;text-align: center;}#sk-container-id-5 label.sk-toggleable__label-arrow:before {content: \"▸\";float: left;margin-right: 0.25em;color: #696969;}#sk-container-id-5 label.sk-toggleable__label-arrow:hover:before {color: black;}#sk-container-id-5 div.sk-estimator:hover label.sk-toggleable__label-arrow:before {color: black;}#sk-container-id-5 div.sk-toggleable__content {max-height: 0;max-width: 0;overflow: hidden;text-align: left;background-color: #f0f8ff;}#sk-container-id-5 div.sk-toggleable__content pre {margin: 0.2em;color: black;border-radius: 0.25em;background-color: #f0f8ff;}#sk-container-id-5 input.sk-toggleable__control:checked~div.sk-toggleable__content {max-height: 200px;max-width: 100%;overflow: auto;}#sk-container-id-5 input.sk-toggleable__control:checked~label.sk-toggleable__label-arrow:before {content: \"▾\";}#sk-container-id-5 div.sk-estimator input.sk-toggleable__control:checked~label.sk-toggleable__label {background-color: #d4ebff;}#sk-container-id-5 div.sk-label input.sk-toggleable__control:checked~label.sk-toggleable__label {background-color: #d4ebff;}#sk-container-id-5 input.sk-hidden--visually {border: 0;clip: rect(1px 1px 1px 1px);clip: rect(1px, 1px, 1px, 1px);height: 1px;margin: -1px;overflow: hidden;padding: 0;position: absolute;width: 1px;}#sk-container-id-5 div.sk-estimator {font-family: monospace;background-color: #f0f8ff;border: 1px dotted black;border-radius: 0.25em;box-sizing: border-box;margin-bottom: 0.5em;}#sk-container-id-5 div.sk-estimator:hover {background-color: #d4ebff;}#sk-container-id-5 div.sk-parallel-item::after {content: \"\";width: 100%;border-bottom: 1px solid gray;flex-grow: 1;}#sk-container-id-5 div.sk-label:hover label.sk-toggleable__label {background-color: #d4ebff;}#sk-container-id-5 div.sk-serial::before {content: \"\";position: absolute;border-left: 1px solid gray;box-sizing: border-box;top: 0;bottom: 0;left: 50%;z-index: 0;}#sk-container-id-5 div.sk-serial {display: flex;flex-direction: column;align-items: center;background-color: white;padding-right: 0.2em;padding-left: 0.2em;position: relative;}#sk-container-id-5 div.sk-item {position: relative;z-index: 1;}#sk-container-id-5 div.sk-parallel {display: flex;align-items: stretch;justify-content: center;background-color: white;position: relative;}#sk-container-id-5 div.sk-item::before, #sk-container-id-5 div.sk-parallel-item::before {content: \"\";position: absolute;border-left: 1px solid gray;box-sizing: border-box;top: 0;bottom: 0;left: 50%;z-index: -1;}#sk-container-id-5 div.sk-parallel-item {display: flex;flex-direction: column;z-index: 1;position: relative;background-color: white;}#sk-container-id-5 div.sk-parallel-item:first-child::after {align-self: flex-end;width: 50%;}#sk-container-id-5 div.sk-parallel-item:last-child::after {align-self: flex-start;width: 50%;}#sk-container-id-5 div.sk-parallel-item:only-child::after {width: 0;}#sk-container-id-5 div.sk-dashed-wrapped {border: 1px dashed gray;margin: 0 0.4em 0.5em 0.4em;box-sizing: border-box;padding-bottom: 0.4em;background-color: white;}#sk-container-id-5 div.sk-label label {font-family: monospace;font-weight: bold;display: inline-block;line-height: 1.2em;}#sk-container-id-5 div.sk-label-container {text-align: center;}#sk-container-id-5 div.sk-container {/* jupyter's `normalize.less` sets `[hidden] { display: none; }` but bootstrap.min.css set `[hidden] { display: none !important; }` so we also need the `!important` here to be able to override the default hidden behavior on the sphinx rendered scikit-learn.org. See: https://github.com/scikit-learn/scikit-learn/issues/21755 */display: inline-block !important;position: relative;}#sk-container-id-5 div.sk-text-repr-fallback {display: none;}</style><div id=\"sk-container-id-5\" class=\"sk-top-container\"><div class=\"sk-text-repr-fallback\"><pre>LinearRegression()</pre><b>In a Jupyter environment, please rerun this cell to show the HTML representation or trust the notebook. <br />On GitHub, the HTML representation is unable to render, please try loading this page with nbviewer.org.</b></div><div class=\"sk-container\" hidden><div class=\"sk-item\"><div class=\"sk-estimator sk-toggleable\"><input class=\"sk-toggleable__control sk-hidden--visually\" id=\"sk-estimator-id-5\" type=\"checkbox\" checked><label for=\"sk-estimator-id-5\" class=\"sk-toggleable__label sk-toggleable__label-arrow\">LinearRegression</label><div class=\"sk-toggleable__content\"><pre>LinearRegression()</pre></div></div></div></div></div>"
      ],
      "text/plain": [
       "LinearRegression()"
      ]
     },
     "execution_count": 73,
     "metadata": {},
     "output_type": "execute_result"
    }
   ],
   "source": [
    "r.fit(data[['BHK','Size']],data.Rent)"
   ]
  },
  {
   "cell_type": "code",
   "execution_count": 74,
   "id": "01d1c5e2-1c38-4105-8e7e-55123e043063",
   "metadata": {},
   "outputs": [
    {
     "name": "stderr",
     "output_type": "stream",
     "text": [
      "C:\\Users\\Sourikta Pal\\AppData\\Local\\Programs\\Python\\Python312\\Lib\\site-packages\\sklearn\\base.py:465: UserWarning: X does not have valid feature names, but LinearRegression was fitted with feature names\n",
      "  warnings.warn(\n"
     ]
    },
    {
     "data": {
      "text/plain": [
       "array([71767.1345864])"
      ]
     },
     "execution_count": 74,
     "metadata": {},
     "output_type": "execute_result"
    }
   ],
   "source": [
    "r.predict([[3,1600]])"
   ]
  },
  {
   "cell_type": "code",
   "execution_count": 75,
   "id": "7e19993f-a883-4a99-87ea-55507865027c",
   "metadata": {},
   "outputs": [
    {
     "name": "stderr",
     "output_type": "stream",
     "text": [
      "C:\\Users\\Sourikta Pal\\AppData\\Local\\Programs\\Python\\Python312\\Lib\\site-packages\\sklearn\\base.py:465: UserWarning: X does not have valid feature names, but LinearRegression was fitted with feature names\n",
      "  warnings.warn(\n"
     ]
    },
    {
     "data": {
      "text/plain": [
       "array([70892.23967981])"
      ]
     },
     "execution_count": 75,
     "metadata": {},
     "output_type": "execute_result"
    }
   ],
   "source": [
    "r.predict([[4,1200]])"
   ]
  },
  {
   "cell_type": "code",
   "execution_count": 76,
   "id": "172a2f47-6772-4f24-810b-bbfc696f37a1",
   "metadata": {},
   "outputs": [
    {
     "name": "stderr",
     "output_type": "stream",
     "text": [
      "C:\\Users\\Sourikta Pal\\AppData\\Local\\Programs\\Python\\Python312\\Lib\\site-packages\\sklearn\\base.py:465: UserWarning: X does not have valid feature names, but LinearRegression was fitted with feature names\n",
      "  warnings.warn(\n"
     ]
    },
    {
     "data": {
      "text/plain": [
       "array([105374.62812581])"
      ]
     },
     "execution_count": 76,
     "metadata": {},
     "output_type": "execute_result"
    }
   ],
   "source": [
    "r.predict([[5,1740]])"
   ]
  },
  {
   "cell_type": "code",
   "execution_count": null,
   "id": "dc38f8cf-01f1-4134-8303-fd8e310d31d1",
   "metadata": {},
   "outputs": [],
   "source": []
  }
 ],
 "metadata": {
  "kernelspec": {
   "display_name": "Python 3 (ipykernel)",
   "language": "python",
   "name": "python3"
  },
  "language_info": {
   "codemirror_mode": {
    "name": "ipython",
    "version": 3
   },
   "file_extension": ".py",
   "mimetype": "text/x-python",
   "name": "python",
   "nbconvert_exporter": "python",
   "pygments_lexer": "ipython3",
   "version": "3.12.1"
  }
 },
 "nbformat": 4,
 "nbformat_minor": 5
}
